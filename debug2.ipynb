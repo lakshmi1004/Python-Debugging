{
 "cells": [
  {
   "cell_type": "code",
   "execution_count": 1,
   "metadata": {},
   "outputs": [
    {
     "name": "stdout",
     "output_type": "stream",
     "text": [
      "The capital of France is Paris.\n",
      "The capital of Spain is Madrid.\n",
      "The capital of Germany is Berlin.\n",
      "The capital of Japan is Tokyo.\n",
      "The capital of Norway is Oslo.\n"
     ]
    }
   ],
   "source": [
    "capitals = {\"France\": \"Paris\" , \"Spain\":\"Madrid\",\n",
    "\"Germany\": \"Berlin\",\n",
    "\"Japan\": \"Tokyo\",\n",
    "\"Norway\": \"Oslo\"\n",
    "}\n",
    "\n",
    "for country, city in capitals.items():\n",
    "    print(f'The capital of {country} is {city}.')"
   ]
  }
 ],
 "metadata": {
  "interpreter": {
   "hash": "39d388ca1b04e1a174574da37708eb359a2bcdc8ec40a682dcfb85d2b414fb91"
  },
  "kernelspec": {
   "display_name": "Python 3.9.7 ('p1')",
   "language": "python",
   "name": "python3"
  },
  "language_info": {
   "codemirror_mode": {
    "name": "ipython",
    "version": 3
   },
   "file_extension": ".py",
   "mimetype": "text/x-python",
   "name": "python",
   "nbconvert_exporter": "python",
   "pygments_lexer": "ipython3",
   "version": "3.9.7"
  },
  "orig_nbformat": 4
 },
 "nbformat": 4,
 "nbformat_minor": 2
}
