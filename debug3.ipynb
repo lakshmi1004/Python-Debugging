{
 "cells": [
  {
   "cell_type": "code",
   "execution_count": 13,
   "metadata": {},
   "outputs": [
    {
     "name": "stdout",
     "output_type": "stream",
     "text": [
      "['96', '96', '96']\n"
     ]
    },
    {
     "ename": "TypeError",
     "evalue": "'int' object is not callable",
     "output_type": "error",
     "traceback": [
      "\u001b[0;31m---------------------------------------------------------------------------\u001b[0m",
      "\u001b[0;31mTypeError\u001b[0m                                 Traceback (most recent call last)",
      "\u001b[0;32m/tmp/ipykernel_96486/1134138948.py\u001b[0m in \u001b[0;36m<module>\u001b[0;34m\u001b[0m\n\u001b[1;32m     10\u001b[0m \u001b[0mgrades\u001b[0m\u001b[0;34m.\u001b[0m\u001b[0mappend\u001b[0m\u001b[0;34m(\u001b[0m\u001b[0mexam_3\u001b[0m\u001b[0;34m)\u001b[0m\u001b[0;34m\u001b[0m\u001b[0;34m\u001b[0m\u001b[0m\n\u001b[1;32m     11\u001b[0m \u001b[0mprint\u001b[0m\u001b[0;34m(\u001b[0m\u001b[0mgrades\u001b[0m\u001b[0;34m)\u001b[0m\u001b[0;34m\u001b[0m\u001b[0;34m\u001b[0m\u001b[0m\n\u001b[0;32m---> 12\u001b[0;31m \u001b[0mtotal\u001b[0m \u001b[0;34m=\u001b[0m \u001b[0msum\u001b[0m\u001b[0;34m(\u001b[0m\u001b[0mint\u001b[0m\u001b[0;34m(\u001b[0m\u001b[0mi\u001b[0m\u001b[0;34m)\u001b[0m\u001b[0;32mfor\u001b[0m \u001b[0mi\u001b[0m \u001b[0;32min\u001b[0m \u001b[0mgrades\u001b[0m\u001b[0;34m)\u001b[0m\u001b[0;34m\u001b[0m\u001b[0;34m\u001b[0m\u001b[0m\n\u001b[0m\u001b[1;32m     13\u001b[0m \u001b[0mprint\u001b[0m\u001b[0;34m(\u001b[0m\u001b[0mtotal\u001b[0m\u001b[0;34m)\u001b[0m\u001b[0;34m\u001b[0m\u001b[0;34m\u001b[0m\u001b[0m\n\u001b[1;32m     14\u001b[0m \u001b[0mavg\u001b[0m \u001b[0;34m=\u001b[0m \u001b[0mtotal\u001b[0m \u001b[0;34m/\u001b[0m \u001b[0mlen\u001b[0m\u001b[0;34m(\u001b[0m\u001b[0mgrades\u001b[0m\u001b[0;34m)\u001b[0m\u001b[0;34m\u001b[0m\u001b[0;34m\u001b[0m\u001b[0m\n",
      "\u001b[0;31mTypeError\u001b[0m: 'int' object is not callable"
     ]
    }
   ],
   "source": [
    "import math\n",
    "exam_one = input(\"Input exam grade one: \")\n",
    "\n",
    "exam_two = input(\"Input exam grade two: \")\n",
    "\n",
    "exam_3 = (input(\"Input exam grade three: \"))\n",
    "grades = []\n",
    "grades.append(exam_one)\n",
    "grades.append(exam_two)\n",
    "grades.append(exam_3)\n",
    "print(grades)\n",
    "total = sum(int(i)for i in grades)\n",
    "print(total)\n",
    "avg = total / len(grades)\n",
    "\n",
    "if avg >= 90:\n",
    "    letter_grade = \"A\"\n",
    "elif avg >= 80 and avg < 90:\n",
    "    letter_grade = \"B\"\n",
    "elif avg > 69 and avg < 80:\n",
    "    letter_grade = \"C\"\n",
    "elif avg <= 69 and avg >= 65:\n",
    "    letter_grade = \"D\"\n",
    "else:\n",
    "    letter_grade = \"F\"\n",
    "\n",
    "for grade in grades:\n",
    "    print(\"Exam: \" + str(grade))\n",
    "\n",
    "    print(\"Average: \" + str(avg))\n",
    "\n",
    "    print(\"Grade: \" + letter_grade)\n",
    "\n",
    "    if letter_grade == \"F\":\n",
    "        print (\"Student is failing.\")\n",
    "    else:\n",
    "        print (\"Student is passing.\")\n",
    "\n"
   ]
  }
 ],
 "metadata": {
  "interpreter": {
   "hash": "39d388ca1b04e1a174574da37708eb359a2bcdc8ec40a682dcfb85d2b414fb91"
  },
  "kernelspec": {
   "display_name": "Python 3.9.7 ('p1')",
   "language": "python",
   "name": "python3"
  },
  "language_info": {
   "codemirror_mode": {
    "name": "ipython",
    "version": 3
   },
   "file_extension": ".py",
   "mimetype": "text/x-python",
   "name": "python",
   "nbconvert_exporter": "python",
   "pygments_lexer": "ipython3",
   "version": "3.9.7"
  },
  "orig_nbformat": 4
 },
 "nbformat": 4,
 "nbformat_minor": 2
}
